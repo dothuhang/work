{
 "cells": [
  {
   "cell_type": "markdown",
   "metadata": {},
   "source": [
    "# 1. Introduction\n",
    "Financial performance may be assessed by means of return on equity – ROE. Its main determinant factors suggested by literature are return on assets - ROA and own or financial leverage (FL). This paper provides a theoretical background and applied panel data analysis of two case studies that use fixed and random-effects models (investigating the influence of ROE of previous period on ROE for the current period). The selection of one of the two types of models is based on the results obtained by applying the Hausman test.\n",
    "\n",
    "The theoretical relationship between ROE and (ROA, FL) is given as:\n",
    "\\begin{equation}\n",
    "    ROE = (ROA + (ROA - d)\\dot{} (1-p)\\dot{} FL) \\dot{}100\n",
    "    \\tag{1}\n",
    "\\end{equation}\n",
    "\n",
    "where\n",
    "\n",
    "\\begin{align}\n",
    "    ROE &= NI/EQ \\tag{2}\\\\\n",
    "    ROA &= OI/TA \\tag{3}\\\\\n",
    "    FL &= LT/EQ \\tag{4}\\\\\n",
    "    d &= \\text{annual interest expense as \\% of LT} \\tag{5}\\\\\n",
    "    p &= \\text{tax rate as \\% of income} \\tag{6}\n",
    "\\end{align}\n",
    "\n",
    "# 2. Data preparation\n",
    "\n",
    "The dataset is retrieved from simfin via api, it includes the P\\&L report (pnl) and Balance sheet (bal) of companies in the U.S. market in annual basis."
   ]
  },
  {
   "cell_type": "code",
   "execution_count": 1,
   "metadata": {},
   "outputs": [
    {
     "name": "stdout",
     "output_type": "stream",
     "text": [
      "Dataset \"us-income-annual\" on disk (32 days old).\n",
      "- Downloading ... 100.0%\n",
      "- Extracting zip-file ... Done!\n",
      "- Loading from disk ... Done!\n",
      "Dataset \"us-balance-annual\" on disk (32 days old).\n",
      "- Downloading ... 100.0%\n",
      "- Extracting zip-file ... Done!\n",
      "- Loading from disk ... Done!\n"
     ]
    }
   ],
   "source": [
    "import numpy as np\n",
    "import pandas as pd\n",
    "import matplotlib.pyplot as plt\n",
    "import requests\n",
    "\n",
    "api_key=\"free\"\n",
    "#\"R7CKsNU1sh8A76ortiYKMeXzR4weHiQq\"\n",
    "\n",
    "#pd.read_csv(\"H:/Downloads/Nasdaq_2B.csv\").iloc[1:100,1]\n",
    "import simfin as sf\n",
    "from simfin.names import *\n",
    "\n",
    "# Set your API-key for downloading data.\n",
    "sf.set_api_key(api_key)\n",
    "\n",
    "# Set the local directory where data-files are stored.\n",
    "# The dir will be created if it does not already exist.\n",
    "sf.set_data_dir('~/simfin_data/')\n",
    "\n",
    "# Load the annual Income Statements for all companies.\n",
    "pnl = sf.load_income(variant='annual')\n",
    "# load the Balance Sheet for all companies\n",
    "bal = sf.load_balance(variant='annual', market='us')"
   ]
  },
  {
   "cell_type": "code",
   "execution_count": 88,
   "metadata": {},
   "outputs": [
    {
     "name": "stdout",
     "output_type": "stream",
     "text": [
      "Number of tickers having at least 10 datapoints for time series (from 2008):  534\n"
     ]
    }
   ],
   "source": [
    "tickers = []\n",
    "\n",
    "for ticker in pnl.index.get_level_values(0).unique():\n",
    "    if len(pnl[(pnl.index.get_level_values(0) == ticker) & (pnl.index.get_level_values(1) >= '2008-01-01')]) >= 10 and ticker not in tickers:\n",
    "        tickers.append(ticker) \n",
    "\n",
    "print(\"Number of tickers having at least 10 datapoints for time series (from 2008): \", len(tickers))\n",
    "\n",
    "# create a dataframe containing relevant financial indicators\n",
    "df = pd.DataFrame()\n",
    "\n",
    "df[\"OI\"] = pnl.loc[tickers][OPERATING_INCOME]\n",
    "df[\"D\"] = pnl.loc[tickers][INTEREST_EXP_NET]\n",
    "df[\"NI\"] = df[\"OI\"] - df[\"D\"]\n",
    "df[\"EQT\"] = bal.loc[tickers][TOTAL_EQUITY]\n",
    "df[\"ROE\"] = df[\"NI\"]/df[\"EQT\"]\n",
    "df[\"TA\"] = bal.loc[tickers][TOTAL_ASSETS]\n",
    "df[\"ROA\"] = df[\"OI\"]/df[\"TA\"]\n",
    "df[\"DEBT\"] = bal.loc[tickers][LT_DEBT]\n",
    "df[\"FL\"] = df[\"DEBT\"]/df[\"EQT\"]\n",
    "\n",
    "df.dropna(inplace = True)"
   ]
  },
  {
   "cell_type": "markdown",
   "metadata": {},
   "source": [
    "This study filters only the tickers with more than $(\\geq)$ 10 entries for time dimension and concerns the period from 2008 to date. Descriptive statistics of the dataset is as in Table 1."
   ]
  },
  {
   "cell_type": "code",
   "execution_count": 90,
   "metadata": {},
   "outputs": [
    {
     "data": {
      "text/plain": [
       "Text(0, 0.5, 'ROE')"
      ]
     },
     "execution_count": 90,
     "metadata": {},
     "output_type": "execute_result"
    },
    {
     "data": {
      "image/png": "[encoded data removed]",
      "text/plain": [
       "<Figure size 1152x360 with 2 Axes>"
      ]
     },
     "metadata": {
      "needs_background": "light"
     },
     "output_type": "display_data"
    }
   ],
   "source": [
    "df.describe().transpose()\n",
    "\n",
    "plt.subplots(figsize = (16,5))\n",
    "plt.subplot(1,2,1)\n",
    "plt.scatter(df[\"ROA\"], df[\"ROE\"], color = 'red')\n",
    "plt.plot(df[\"ROA\"],df[\"ROA\"])\n",
    "plt.xlabel('ROA')\n",
    "plt.ylabel('ROE')\n",
    "\n",
    "plt.subplot(1,2,2)\n",
    "plt.scatter(df[\"FL\"], df[\"ROE\"], color = 'red')\n",
    "plt.plot(df[\"FL\"],df[\"FL\"])\n",
    "plt.xlabel('FL')\n",
    "plt.ylabel('ROE')"
   ]
  },
  {
   "cell_type": "markdown",
   "metadata": {},
   "source": [
    "## 2. Fixed effect model\n",
    "\n",
    "Fixed effect model assumes a constant effect $\\alpha_n$ is associated with each \"member\" of the group.\n",
    "\n",
    "\\begin{equation}\n",
    "    ROE_{nt} = \\beta_0 + \\alpha_n + \\delta_t + \\beta_1ROA_{nt} + \\beta_2FL_{nt} + \\epsilon_{nt}\n",
    "    \\tag{2}\n",
    "\\end{equation}\n",
    "\n",
    "where $\\alpha_n$ denotes the cross-sectional fixed effects, $\\delta_t$ represents temporal fixed effects and $\\epsilon_{nt}$ is the error random variable.\n",
    "\n",
    "The coefficients $\\beta_1$ and $\\beta_2$ are estimated based on the regression:\n",
    "\n",
    "\\begin{equation}\n",
    "    (ROE_{nt} - \\bar{ROE_n}) = (ROA_{nt} - \\bar{ROA_n})\\beta_1 + (FL_{nt} - \\bar{FL_n})\\beta_2\n",
    "    \\tag{3}\n",
    "\\end{equation}\n"
   ]
  },
  {
   "cell_type": "code",
   "execution_count": 78,
   "metadata": {},
   "outputs": [
    {
     "name": "stdout",
     "output_type": "stream",
     "text": [
      "                          PanelOLS Estimation Summary                           \n",
      "================================================================================\n",
      "Dep. Variable:                    ROE   R-squared:                        0.7627\n",
      "Estimator:                   PanelOLS   R-squared (Between):              0.6058\n",
      "No. Observations:                4820   R-squared (Within):               0.7627\n",
      "Date:                Mon, Feb 03 2020   R-squared (Overall):              0.7509\n",
      "Time:                        01:03:32   Log-likelihood                -1.154e+04\n",
      "Cov. Estimator:             Clustered                                           \n",
      "                                        F-statistic:                      6957.8\n",
      "Entities:                        1912   P-value                           0.0000\n",
      "Avg Obs:                       2.5209   Distribution:                  F(2,4329)\n",
      "Min Obs:                       0.0000                                           \n",
      "Max Obs:                       12.000   F-statistic (robust):             12.713\n",
      "                                        P-value                           0.0000\n",
      "Time periods:                     127   Distribution:                  F(2,4329)\n",
      "Avg Obs:                       37.953                                           \n",
      "Min Obs:                       0.0000                                           \n",
      "Max Obs:                       379.00                                           \n",
      "                                                                                \n",
      "                             Parameter Estimates                              \n",
      "==============================================================================\n",
      "            Parameter  Std. Err.     T-stat    P-value    Lower CI    Upper CI\n",
      "------------------------------------------------------------------------------\n",
      "const         -0.3053     0.1529    -1.9971     0.0459     -0.6049     -0.0056\n",
      "ROA            2.4868     1.0083     2.4663     0.0137      0.5100      4.4637\n",
      "FL             0.3905     0.0801     4.8752     0.0000      0.2335      0.5475\n",
      "==============================================================================\n",
      "\n",
      "F-test for Poolability: 1.2756\n",
      "P-value: 0.0001\n",
      "Distribution: F(488,4329)\n",
      "\n",
      "Included effects: Entity\n"
     ]
    },
    {
     "name": "stderr",
     "output_type": "stream",
     "text": [
      "C:\\Users\\Admin\\AppData\\Roaming\\Python\\Python36\\site-packages\\numpy\\core\\fromnumeric.py:2389: FutureWarning: Method .ptp is deprecated and will be removed in a future version. Use numpy.ptp instead.\n",
      "  return ptp(axis=axis, out=out, **kwargs)\n"
     ]
    }
   ],
   "source": [
    "# using package\n",
    "from linearmodels import PanelOLS\n",
    "import statsmodels.api as sm\n",
    "\n",
    "mod = PanelOLS(df.iloc[:,4], sm.add_constant(df.iloc[:,[6,8]]), entity_effects=True)\n",
    "res = mod.fit(cov_type='clustered', cluster_entity=True)\n",
    "\n",
    "print(res)"
   ]
  },
  {
   "cell_type": "code",
   "execution_count": 79,
   "metadata": {},
   "outputs": [
    {
     "name": "stdout",
     "output_type": "stream",
     "text": [
      "Intercept: 2.470008599258372e-17\n",
      "ROA : 2.4868203906810873\n",
      " FL : 0.39049099889078337\n",
      "R squared : 0.7627248451813438\n"
     ]
    },
    {
     "data": {
      "text/plain": [
       "Text(0.5, 1.0, 'Fitness of model')"
      ]
     },
     "execution_count": 79,
     "metadata": {},
     "output_type": "execute_result"
    },
    {
     "data": {
      "image/png": "[encoded data removed]",
      "text/plain": [
       "<Figure size 432x288 with 1 Axes>"
      ]
     },
     "metadata": {
      "needs_background": "light"
     },
     "output_type": "display_data"
    }
   ],
   "source": [
    "# sel-calculation\n",
    "# calculate fixed effects estimator that is the average in time of each ticker's variables\n",
    "data1 = df.reset_index()\n",
    "\n",
    "fe = data1.groupby(\"Ticker\").mean()[[\"ROE\",\"ROA\",\"FL\"]]\n",
    "fe.rename(columns = {\"ROE\": \"avg_ROE\", \"ROA\": \"avg_ROA\", \"FL\": \"avg_FL\"}, inplace = True)\n",
    "data1 = data1.join(other = fe, on = \"Ticker\")\n",
    "\n",
    "X = np.asarray([(data1[\"ROA\"] - data1[\"avg_ROA\"]).values,(data1[\"FL\"] - data1[\"avg_FL\"]).values]).transpose()\n",
    "Y = np.asarray((data1[\"ROE\"] - data1[\"avg_ROE\"]).values)\n",
    "\n",
    "from sklearn.linear_model import LinearRegression\n",
    "\n",
    "reg = LinearRegression()\n",
    "reg.fit(X,Y)\n",
    "\n",
    "residual = Y - reg.predict(X)\n",
    "r_square = 1 - sum(residual**2)/sum((s - Y.mean())**2 for s in Y)\n",
    "\n",
    "print('const: ' + str(reg.intercept_))\n",
    "print('ROA : ' + str(reg.coef_[0]) + '\\n FL : ' + str(reg.coef_[1]))\n",
    "print('R squared : ' + str(r_square))\n",
    "\n",
    "fe_roa = reg.coef_[0]\n",
    "fe_fl = reg.coef_[1]\n",
    "\n",
    "plt.scatter(Y, reg.predict(X),color = 'red')\n",
    "plt.plot(Y, Y)\n",
    "plt.xlabel('Y')\n",
    "plt.ylabel(r'$\\hat{Y}$')\n",
    "plt.title('Fitness of model')"
   ]
  },
  {
   "attachments": {},
   "cell_type": "markdown",
   "metadata": {},
   "source": [
    "## 3. Random effects model\n",
    "\n",
    "Random effect assumes randomness to the \"intercept\" associated with each \"member\" of the group. The \"intercept\" has variance $\\sigma_u$.\n",
    "\n",
    "\\begin{equation}\n",
    "    ROE = \\beta_0 + \\beta_1ROA + \\beta_2 FL + u_n + v_t + w_{nt}\n",
    "    \\tag{4}\n",
    "\\end{equation}\n",
    "\n",
    "where $u_n$ denotes individual random effects, $v_t$ denotes temporal random effects with variance $\\sigma^2$ and $w_{nt}$ is the error component.\n",
    "\n",
    "To employ random effect model, we first need to estimate a parameter to convert equation 2 to similar form with equation 3 when $\\lambda = 1$.\n",
    "\n",
    "\\begin{equation}\n",
    "    \\lambda = 1 - \\bigg(\\frac{\\sigma_w^2}{\\sigma_w^2 + T\\sigma_u^2}\\bigg)^{1/2}\n",
    "    \\tag{5}\n",
    "\\end{equation}\n",
    "\n",
    "The idea is that:\n",
    "* when $\\sigma_u^2 \\to \\infty$ then $\\lambda \\to 0$, the model becomes the general pooled OLS model.\n",
    "* when $\\sigma_u^2 \\to 0$ then $\\lambda \\to 1$, the model becomes the Fixed effect model."
   ]
  },
  {
   "cell_type": "code",
   "execution_count": 84,
   "metadata": {
    "scrolled": false
   },
   "outputs": [
    {
     "name": "stderr",
     "output_type": "stream",
     "text": [
      "C:\\Users\\Admin\\AppData\\Roaming\\Python\\Python36\\site-packages\\numpy\\core\\fromnumeric.py:2389: FutureWarning: Method .ptp is deprecated and will be removed in a future version. Use numpy.ptp instead.\n",
      "  return ptp(axis=axis, out=out, **kwargs)\n"
     ]
    },
    {
     "name": "stdout",
     "output_type": "stream",
     "text": [
      "                        RandomEffects Estimation Summary                        \n",
      "================================================================================\n",
      "Dep. Variable:                    ROE   R-squared:                        0.7514\n",
      "Estimator:              RandomEffects   R-squared (Between):              0.6189\n",
      "No. Observations:                4820   R-squared (Within):               0.7622\n",
      "Date:                Mon, Feb 03 2020   R-squared (Overall):              0.7514\n",
      "Time:                        01:20:23   Log-likelihood                -1.186e+04\n",
      "Cov. Estimator:            Unadjusted                                           \n",
      "                                        F-statistic:                      7278.9\n",
      "Entities:                        1912   P-value                           0.0000\n",
      "Avg Obs:                       2.5209   Distribution:                  F(2,4817)\n",
      "Min Obs:                       0.0000                                           \n",
      "Max Obs:                       12.000   F-statistic (robust):             7278.9\n",
      "                                        P-value                           0.0000\n",
      "Time periods:                     127   Distribution:                  F(2,4817)\n",
      "Avg Obs:                       37.953                                           \n",
      "Min Obs:                       0.0000                                           \n",
      "Max Obs:                       379.00                                           \n",
      "                                                                                \n",
      "                             Parameter Estimates                              \n",
      "==============================================================================\n",
      "            Parameter  Std. Err.     T-stat    P-value    Lower CI    Upper CI\n",
      "------------------------------------------------------------------------------\n",
      "const         -0.2739     0.0588    -4.6620     0.0000     -0.3891     -0.1587\n",
      "ROA            2.2873     0.4237     5.3983     0.0000      1.4567      3.1180\n",
      "FL             0.3805     0.0032     120.60     0.0000      0.3743      0.3867\n",
      "==============================================================================\n"
     ]
    }
   ],
   "source": [
    "#using package\n",
    "from linearmodels import RandomEffects\n",
    "\n",
    "mod = RandomEffects(df.iloc[:,4], sm.add_constant(df.iloc[:,[6,8]]))\n",
    "res = mod.fit()\n",
    "\n",
    "print(res)"
   ]
  },
  {
   "cell_type": "code",
   "execution_count": 85,
   "metadata": {},
   "outputs": [
    {
     "name": "stdout",
     "output_type": "stream",
     "text": [
      "lambda = 8.558140789816093e-06\n",
      "ROA : 2.287326836756488\n",
      " FL : 0.38053090095702474\n",
      "R squared : 0.7513788761675575\n"
     ]
    },
    {
     "data": {
      "text/plain": [
       "Text(0.5, 1.0, 'Fitness of model')"
      ]
     },
     "execution_count": 85,
     "metadata": {},
     "output_type": "execute_result"
    },
    {
     "data": {
      "image/png": "[encoded data removed]",
      "text/plain": [
       "<Figure size 432x288 with 1 Axes>"
      ]
     },
     "metadata": {
      "needs_background": "light"
     },
     "output_type": "display_data"
    }
   ],
   "source": [
    "#self-calculation\n",
    "T = len(df.index.get_level_values(1).unique())\n",
    "n = len(df.index.get_level_values(0).unique())\n",
    "\n",
    "data1[\"gr_avg_ROE\"] = data1[\"avg_ROE\"].unique().mean()\n",
    "data1[\"sum_sqr_within\"] = (data1[\"ROE\"] - data1[\"avg_ROE\"])**2\n",
    "data1[\"sum_sqr_between\"] = (data1[\"avg_ROE\"] - data1[\"gr_avg_ROE\"])**2\n",
    "\n",
    "sigma_w_sqr = data1[\"sum_sqr_between\"].sum()/2\n",
    "sigma_u_sqr = data1[\"sum_sqr_within\"].sum()/(T-1)/n - data1[\"sum_sqr_within\"].sum()/n/(T*(n-1))\n",
    "\n",
    "lam = 1-(sigma_w_sqr**2/(sigma_w_sqr**2 + (T-1)*sigma_u_sqr**2))**0.5\n",
    "\n",
    "X = np.asarray([(data1[\"ROA\"] - lam*data1[\"avg_ROA\"]).values,(data1[\"FL\"] - lam*data1[\"avg_FL\"]).values]).transpose()\n",
    "Y = np.asarray((data1[\"ROE\"] - lam*data1[\"avg_ROE\"]).values)\n",
    "\n",
    "from sklearn.linear_model import LinearRegression\n",
    "\n",
    "reg = LinearRegression()\n",
    "reg.fit(X,Y)\n",
    "\n",
    "residual = Y - reg.predict(X)\n",
    "\n",
    "r_square = 1 - sum(residual**2)/sum((s - Y.mean())**2 for s in Y)\n",
    "\n",
    "print('lambda = ' + str(lam))\n",
    "print('ROA : ' + str(reg.coef_[0]) + '\\n FL : ' + str(reg.coef_[1]))\n",
    "print('R squared : ' + str(r_square))\n",
    "\n",
    "plt.scatter(Y, reg.predict(X),color = 'red')\n",
    "plt.plot(Y, Y)\n",
    "plt.xlabel('Y')\n",
    "plt.ylabel(r'$\\hat{Y}$')\n",
    "plt.title('Fitness of model')"
   ]
  },
  {
   "cell_type": "markdown",
   "metadata": {},
   "source": [
    "## 4. Hausman Test\n",
    "\n",
    "In panel data, Hausman test evaluates the independency between \"member\" effect $\\alpha_n$ and the regressors $X_n$, i.e. the endogeneity of the regressors. If $cov(\\alpha_n, X_n) = 0$ then they are independent, it would be more persuasive to employ Random effect model than to do so with Fixed effect model.\n",
    "\n",
    "The hypothesis test is:\n",
    "\\begin{equation}\n",
    "    H_0: w = \\frac{(\\beta_{FE}-\\beta_{RE})^2}{Var[\\beta_{FE}]-Var[\\beta_{RE}])} \\sim \\mathcal{X}^2_1\n",
    "    \\tag{6}\n",
    "\\end{equation}\n",
    "\n",
    "when $\\beta_{FE}-\\beta_{RE}$ is small and $Var[\\beta_{FE}]-Var[\\beta_{RE}]$ large then the the two model parameters are consistent but the FE model produces greater errors $\\to$ less efficient than RE model.\n",
    "\n",
    "Test result shows that RE model is preferable to FE model in this case."
   ]
  },
  {
   "cell_type": "code",
   "execution_count": 100,
   "metadata": {},
   "outputs": [
    {
     "name": "stdout",
     "output_type": "stream",
     "text": [
      "                            OLS Estimation Summary                            \n",
      "==============================================================================\n",
      "Dep. Variable:                    ROE   R-squared:                      0.7514\n",
      "Estimator:                        OLS   Adj. R-squared:                 0.7513\n",
      "No. Observations:                4820   F-statistic:                    27.570\n",
      "Date:                Mon, Feb 03 2020   P-value (F-stat)                0.0000\n",
      "Time:                        04:25:33   Distribution:                  chi2(2)\n",
      "Cov. Estimator:                robust                                         \n",
      "                                                                              \n",
      "                             Parameter Estimates                              \n",
      "==============================================================================\n",
      "            Parameter  Std. Err.     T-stat    P-value    Lower CI    Upper CI\n",
      "------------------------------------------------------------------------------\n",
      "const         -0.2739     0.1029    -2.6622     0.0078     -0.4755     -0.0722\n",
      "ROA            2.2873     0.6509     3.5143     0.0004      1.0117      3.5630\n",
      "FL             0.3805     0.0767     4.9627     0.0000      0.2302      0.5308\n",
      "==============================================================================\n"
     ]
    },
    {
     "name": "stderr",
     "output_type": "stream",
     "text": [
      "C:\\Users\\Admin\\AppData\\Roaming\\Python\\Python36\\site-packages\\numpy\\core\\fromnumeric.py:2389: FutureWarning: Method .ptp is deprecated and will be removed in a future version. Use numpy.ptp instead.\n",
      "  return ptp(axis=axis, out=out, **kwargs)\n"
     ]
    }
   ],
   "source": [
    "from linearmodels import IV2SLS\n",
    "\n",
    "ivmod = IV2SLS(df.ROE, sm.add_constant(df.iloc[:,[6,8]]), None, None)\n",
    "res_2sls = ivmod.fit()\n",
    "print(res_2sls.summary)\n"
   ]
  },
  {
   "cell_type": "markdown",
   "metadata": {},
   "source": [
    "# Reference\n",
    "\n",
    "JABA, E., ROBU, I.B. and BALAN, C.B., Panel data analysis applied in financial performance assessment, Romanian Statistical Review (2017). [Link to access](http://www.revistadestatistica.ro/wp-content/uploads/2017/06/RRS-2_2017_A1.pdf?fbclid=IwAR22HvgVYSZL2oPP7LzXRDlZqsa8RnQYIEUPMm6lqlghzR0PXNS5c0YPloM)"
   ]
  }
 ],
 "metadata": {
  "kernelspec": {
   "display_name": "Python 3",
   "language": "python",
   "name": "python3"
  },
  "language_info": {
   "codemirror_mode": {
    "name": "ipython",
    "version": 3
   },
   "file_extension": ".py",
   "mimetype": "text/x-python",
   "name": "python",
   "nbconvert_exporter": "python",
   "pygments_lexer": "ipython3",
   "version": "3.6.8"
  }
 },
 "nbformat": 4,
 "nbformat_minor": 2
}
