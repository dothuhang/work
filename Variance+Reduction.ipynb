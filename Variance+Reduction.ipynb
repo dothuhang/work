{
 "cells": [
  {
   "cell_type": "markdown",
   "metadata": {},
   "source": [
    "Pricing by simulation method + Variance reduction"
   ]
  },
  {
   "cell_type": "code",
   "execution_count": 116,
   "metadata": {
    "collapsed": true
   },
   "outputs": [],
   "source": [
    "class Call:\n",
    "    import numpy as np\n",
    "    \n",
    "    def __init__(self, S0, K, T, sigma, r, Nmc):\n",
    "        self.S0 = S0\n",
    "        self.K = K\n",
    "        self.T = T\n",
    "        self.sigma = sigma\n",
    "        self.r = r\n",
    "        self.Nmc= Nmc\n",
    "        \n",
    "    def pay_off(s,k):\n",
    "        return max(s-k,0)\n",
    "    \n",
    "    def price(self, type = 'naive', confidence_level = 0.95):\n",
    "        from scipy.stats import norm\n",
    "        \n",
    "        N = len(self.S0)\n",
    "        w = np.random.normal(size = (self.Nmc,N))*self.T**0.5\n",
    "        V = np.zeros((N, 1))\n",
    "        lower_interval = np.zeros((N, 1))\n",
    "        upper_interval = np.zeros((N, 1))\n",
    "        \n",
    "        if type == 'naive':\n",
    "            p = np.zeros((self.Nmc, N))\n",
    "            for i in range(0,N):\n",
    "                for n in range(0,self.Nmc):\n",
    "                    p[n,i] = max(self.S0[i]*np.exp((self.r - 0.5*self.sigma**2)*self.T + self.sigma*w[n,i]) - self.K, 0)\n",
    "            \n",
    "                V[i] = np.exp(-self.r * self.T)*p[:,i].mean()\n",
    "                lower_interval[i] = V[i] - norm.ppf((1-confidence_level)/2)*(np.exp(-2*self.r * self.T)*p[:,i].var()/self.Nmc)**0.5\n",
    "                upper_interval[i] = V[i] + norm.ppf((1-confidence_level)/2)*(np.exp(-2*self.r * self.T)*p[:,i].var()/self.Nmc)**0.5\n",
    "                    \n",
    "        elif type == 'antithetic':\n",
    "            p = np.zeros((self.Nmc, N))\n",
    "            p2 = np.zeros((self.Nmc, N))\n",
    "            \n",
    "            for i in range(0,N):\n",
    "                for n in range(0,self.Nmc):\n",
    "                    p[n,i] = max(self.S0[i]*np.exp((self.r - 0.5*self.sigma**2)*self.T + self.sigma*w[n,i]) - self.K, 0)\n",
    "                    p2[n,i] = max(self.S0[i]*np.exp((self.r - 0.5*self.sigma**2)*self.T - self.sigma*w[n,i]) - self.K, 0)\n",
    "            \n",
    "                V[i] = np.exp(-self.r * self.T)*(p[:,i] + p2[:,i]).mean()*0.5\n",
    "                lower_interval[i] = V[i] - norm.ppf((1-confidence_level)/2)*(np.exp(-2*self.r * self.T)*0.25*(p[:,i]+p2[:,i]).var()/self.Nmc)**0.5\n",
    "                upper_interval[i] = V[i] + norm.ppf((1-confidence_level)/2)*(np.exp(-2*self.r * self.T)*0.25*(p[:,i]+p2[:,i]).var()/self.Nmc)**0.5\n",
    "             \n",
    "        elif type == 'control':\n",
    "            p = np.zeros((self.Nmc, N))\n",
    "            S = np.zeros((self.Nmc, N))\n",
    "            \n",
    "            for i in range(0,N):\n",
    "                for n in range(0,self.Nmc):\n",
    "                    S[n,i] = self.S0[i]*np.exp((self.r - 0.5*self.sigma**2)*self.T + self.sigma*w[n,i])\n",
    "                    p[n,i] = max(S[n,i] - self.K, 0)\n",
    "                    \n",
    "                A = S[:,i] - self.S0[i]*np.exp(self.r * self.T)\n",
    "                B = A[:] * (p[:,i] * np.exp(-self.r * self.T) - p[:,i].mean())\n",
    "                C = A**2\n",
    "                x = np.exp(-self.r * self.T)*p[:,i] - sum(B)/sum(C)*A\n",
    "                \n",
    "                V[i] = x.mean()\n",
    "                lower_interval[i] = V[i] - norm.ppf((1-confidence_level)/2)*(x.var()/self.Nmc)**0.5\n",
    "                upper_interval[i] = V[i] + norm.ppf((1-confidence_level)/2)*(x.var()/self.Nmc)**0.5\n",
    "             \n",
    "        elif type == 'importance sampling':\n",
    "            from math import log\n",
    "            \n",
    "            alpha = 0.0001\n",
    "            beta = 0.9\n",
    "            d = 1\n",
    "            p = np.zeros((2001, N))\n",
    "            p2 = np.zeros((self.Nmc, N))\n",
    "            theta = np.zeros((2001, 1))\n",
    "            gamma = np.zeros((2001, 1))\n",
    "            S = np.zeros((max(self.Nmc,2001), N))\n",
    "            w = np.random.normal(size = (max(self.Nmc,2001),N))*self.T**0.5\n",
    "            \n",
    "            for i in range(0,N):\n",
    "                theta[0] = 1\n",
    "                s = 1\n",
    "                for n in range(0,2000):\n",
    "                    gamma[n] = alpha/(n+1)**beta\n",
    "                    S[n,i] = self.S0[i]*np.exp((self.r - 0.5*self.sigma**2)*self.T + self.sigma*w[n,i])\n",
    "                    p[n,i] = max(S[n,i] - self.K, 0)\n",
    "                    \n",
    "                    theta[n+1] = theta[n]-gamma[n]*p[n,i]**2*(-w[n,i] + theta[n]*self.T)*np.exp(-theta[n]*w[n,i] + 0.5*theta[n]**2*self.T)\n",
    "\n",
    "                    if (theta[n+1] >= -d*log(1+s)) & (theta[n+1] <= d*log(1+s)):\n",
    "                        s = s\n",
    "                    else:\n",
    "                        theta[n+1] = theta[0]\n",
    "                        s = s+1\n",
    "\n",
    "                for n in range(0,self.Nmc):\n",
    "                    p2[n,i] = max(self.S0[i]*np.exp((self.r - 0.5*self.sigma**2)*self.T + self.sigma*w[n,i]+theta[-1]*self.T) - self.K, 0)*np.exp(-theta[-1]*w[n,i]-0.5*theta[-1]**2*self.T)\n",
    "        \n",
    "                V[i] = np.exp(-self.r * self.T)*p2[:,i].mean()\n",
    "                lower_interval[i] = V[i] - norm.ppf((1-confidence_level)/2)*(np.exp(-2*self.r * self.T)*p2[:,i].var()/self.Nmc)**0.5\n",
    "                upper_interval[i] = V[i] + norm.ppf((1-confidence_level)/2)*(np.exp(-2*self.r * self.T)*p2[:,i].var()/self.Nmc)**0.5\n",
    "             \n",
    "        return  V, lower_interval, upper_interval"
   ]
  },
  {
   "cell_type": "code",
   "execution_count": 120,
   "metadata": {},
   "outputs": [
    {
     "name": "stderr",
     "output_type": "stream",
     "text": [
      "C:\\Program Files\\Anaconda3\\lib\\site-packages\\ipykernel_launcher.py:59: RuntimeWarning: invalid value encountered in double_scalars\n"
     ]
    },
    {
     "data": {
      "text/plain": [
       "[<matplotlib.lines.Line2D at 0x1866ddc0dd8>]"
      ]
     },
     "execution_count": 120,
     "metadata": {},
     "output_type": "execute_result"
    },
    {
     "data": {
      "image/png": "[encoded data removed]",
      "text/plain": [
       "<Figure size 432x288 with 1 Axes>"
      ]
     },
     "metadata": {
      "needs_background": "light"
     },
     "output_type": "display_data"
    }
   ],
   "source": [
    "import matplotlib.pyplot as plt\n",
    "\n",
    "S0 = np.linspace(0,20,101)\n",
    "call = Call(S0, 10, 0.5, 0.5, 0.1, 100)\n",
    "\n",
    "V, lower_interval, upper_interval = call.price(type = 'control')\n",
    "\n",
    "plt.plot(S0, V, color = 'red')\n",
    "plt.plot(S0, lower_interval, color = 'b', linestyle = 'dashed')\n",
    "plt.plot(S0, upper_interval, color = 'b', linestyle = 'dashed')"
   ]
  }
 ],
 "metadata": {
  "kernelspec": {
   "display_name": "Python 3",
   "language": "python",
   "name": "python3"
  },
  "language_info": {
   "codemirror_mode": {
    "name": "ipython",
    "version": 3
   },
   "file_extension": ".py",
   "mimetype": "text/x-python",
   "name": "python",
   "nbconvert_exporter": "python",
   "pygments_lexer": "ipython3",
   "version": "3.6.8"
  }
 },
 "nbformat": 4,
 "nbformat_minor": 2
}
