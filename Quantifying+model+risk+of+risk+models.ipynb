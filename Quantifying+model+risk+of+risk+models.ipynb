{
 "cells": [
  {
   "cell_type": "markdown",
   "metadata": {},
   "source": [
    "# 1. Introduction\n",
    "\n",
    "VaR (Value-at-Risk) and ES (Expected shortfall) are simple market risk measures. This project aims to shed some lights on how to estimate these measures in practice using numerous approaches. This study is based on the daily return of the CAC40 index from 2017-2019 (3 years)."
   ]
  },
  {
   "cell_type": "code",
   "execution_count": 1,
   "metadata": {
    "collapsed": true
   },
   "outputs": [],
   "source": [
    "import numpy as np\n",
    "import pandas as pd\n",
    "import matplotlib.pyplot as plt\n",
    "\n",
    "data = pd.read_csv(\"H:/Downloads/CAC_17-19.csv\")\n",
    "data['Date'] = pd.to_datetime(data['Date'])\n",
    "data.set_index(data['Date'], inplace = True)\n",
    "\n",
    "data.apply(lambda x: pd.to_numeric(x, errors='coerce')).fillna(method = 'ffill')\n",
    "\n",
    "data['ret'] = np.log(data['Adj Close']) - np.log(data['Adj Close']).shift(1)\n",
    "\n",
    "loss = - data.ret.dropna()\n",
    "\n",
    "result = pd.DataFrame(columns = ['method', 'VaR', 'ES'])"
   ]
  },
  {
   "cell_type": "markdown",
   "metadata": {},
   "source": [
    "# 1. Various calculation methods for VaR & ES\n",
    "\n",
    "VaR at 99% at a one-day horizon using different methods; its interpretation is that the propability of having a loss over $VaR_{0.99}$ at any given day is 1%. ES is an alternative to VaR that is more sensitive to the shape of the tail of the loss distribution. It is defined to be the mean loss of portfolio value given that a loss is occurring at or above the $\\alpha$-quantile.\n",
    "\n",
    "### Empirical quantile method\n",
    "The method is straightforward: VaR is taken as the value at 99th-percentile of the loss empirical distribution given the dataset. The drawback of this method is that it equalises weights to each observation and that the distribution is discrete rather than continuous while the latter shoule be more preferable. Moreover, this method requires a large dataset, often >> $1/(1-\\alpha)$. ES is calculated from the formula:\n",
    "\\begin{equation}\n",
    "    ES_\\alpha = E\\big[loss \\big| loss \\geq VaR_\\alpha\\big]\n",
    "    \\tag{1}\n",
    "\\end{equation}\n",
    "\n",
    "Given very high confidence level, for example $\\alpha = 0.9999$, this method would produce bias results due to lack of observations."
   ]
  },
  {
   "cell_type": "code",
   "execution_count": 2,
   "metadata": {
    "collapsed": true
   },
   "outputs": [],
   "source": [
    "def VaR_quantile(X, alpha):\n",
    "    return np.quantile(X, alpha, interpolation = 'linear')\n",
    "\n",
    "def ES_quantile(X, alpha):\n",
    "    var_q = VaR_quantile(X, alpha)\n",
    "    return X[X >= var_q].mean()"
   ]
  },
  {
   "cell_type": "code",
   "execution_count": 3,
   "metadata": {},
   "outputs": [
    {
     "name": "stdout",
     "output_type": "stream",
     "text": [
      "method    empirical\n",
      "VaR        0.020694\n",
      "ES         0.026793\n",
      "Name: 0, dtype: object\n"
     ]
    },
    {
     "data": {
      "text/plain": [
       "<matplotlib.collections.LineCollection at 0x2ab0367a080>"
      ]
     },
     "execution_count": 3,
     "metadata": {},
     "output_type": "execute_result"
    },
    {
     "data": {
      "image/png": "[encoded data removed]",
      "text/plain": [
       "<Figure size 432x288 with 1 Axes>"
      ]
     },
     "metadata": {
      "needs_background": "light"
     },
     "output_type": "display_data"
    }
   ],
   "source": [
    "alpha = 0.99\n",
    "\n",
    "result = result.append(pd.DataFrame([['empirical', VaR_quantile(loss, alpha), ES_quantile(loss, alpha)]], \n",
    "                                    columns = ['method', 'VaR', 'ES']), ignore_index = True)\n",
    "\n",
    "print(result.iloc[-1,:])\n",
    "\n",
    "(no, bins, patches) = plt.hist(loss, bins = 100)\n",
    "plt.xlabel('loss')\n",
    "plt.ylabel('frequency')\n",
    "plt.title('Histogram of CAC40 loss in 2017-2019')\n",
    "plt.vlines(VaR_quantile(loss, alpha), ymin = 0, ymax = 40, color = 'red')"
   ]
  },
  {
   "cell_type": "markdown",
   "metadata": {},
   "source": [
    "### Parametric distribution\n",
    "\n",
    "The method relies on a specific assumption on the log-return distribution $r_t$, Gaussian distribution is usually taken for granted in this case. Knowing the mean $\\mu$ and standard deviation $\\sigma$ of this distribution results in the estimation for VaR at its 1st-percentile. From the dataset, $\\mu$ and $\\sigma$ are again deduced using the 1-year rolling window and VaR is infered from the assumed distribution.\n",
    "\\begin{equation}\n",
    "    VaR_\\alpha = \\mu + \\sigma\\mathcal{N}^{-1}(\\alpha)\n",
    "    \\tag{2.1}\n",
    "\\end{equation}\n",
    "Consequently, ES has the closed-form formula as follows:\n",
    "\\begin{equation}\n",
    "    ES_\\alpha = \\mu + \\dfrac{\\sigma}{1 - \\alpha} \\dfrac{1}{\\sqrt{2\\pi}} exp\\Big(-\\big(\\mathcal{N}^{-1}(\\alpha)\\big)^2/2\\Big)\n",
    "    \\tag{2.2}\n",
    "\\end{equation}"
   ]
  },
  {
   "cell_type": "code",
   "execution_count": 4,
   "metadata": {
    "collapsed": true
   },
   "outputs": [],
   "source": [
    "def VaR_Gaussian(X, alpha):\n",
    "    from scipy.special import erfinv\n",
    "    return X.mean() + X.std() * 2**0.5 * erfinv(2*alpha - 1)\n",
    "\n",
    "def ES_Gaussian(X, alpha):\n",
    "    from scipy.special import erfinv\n",
    "    return X.mean() + X.std() / (2*np.pi)**0.5 * np.exp(-(2**0.5 * erfinv(2*alpha - 1))**2/2) / (1 - alpha)"
   ]
  },
  {
   "cell_type": "code",
   "execution_count": 5,
   "metadata": {},
   "outputs": [
    {
     "name": "stdout",
     "output_type": "stream",
     "text": [
      "method     Gaussian\n",
      "VaR       0.0182641\n",
      "ES        0.0209631\n",
      "Name: 1, dtype: object\n"
     ]
    },
    {
     "data": {
      "text/plain": [
       "<matplotlib.collections.LineCollection at 0x2ab05a5cfd0>"
      ]
     },
     "execution_count": 5,
     "metadata": {},
     "output_type": "execute_result"
    },
    {
     "data": {
      "image/png": "[encoded data removed]",
      "text/plain": [
       "<Figure size 432x288 with 1 Axes>"
      ]
     },
     "metadata": {
      "needs_background": "light"
     },
     "output_type": "display_data"
    }
   ],
   "source": [
    "alpha = 0.99\n",
    "\n",
    "result = result.append(pd.DataFrame([['Gaussian', VaR_Gaussian(loss, alpha), ES_Gaussian(loss, alpha)]], \n",
    "                                    columns = ['method', 'VaR', 'ES']), ignore_index = True)\n",
    "\n",
    "print(result.iloc[-1,:])\n",
    "\n",
    "(no, bins, patches) = plt.hist(loss, bins = 100)\n",
    "plt.xlabel('loss')\n",
    "plt.ylabel('frequency')\n",
    "plt.title('Histogram of CAC40 loss in 2017-2019')\n",
    "plt.vlines(VaR_Gaussian(loss, alpha), ymin = 0, ymax = 40, color = 'red')"
   ]
  },
  {
   "cell_type": "markdown",
   "metadata": {},
   "source": [
    "### Nonparametric distribution\n",
    "The forth method is nonparametrical, the distribution is infered from historical data using kernel method, which usually utilises Gaussian kernel.\n",
    "\\begin{equation}\n",
    "    \\hat{f}(x) = \\frac{1}{nh}\\sum\\limits_{i=1}^n\\mathcal{K}\\big(\\frac{x-x_i}{h}\\big)\n",
    "    \\tag{3}\n",
    "\\end{equation}\n",
    "\n",
    "The estimated density is smoothed by an arbitrary parameter (bandwidth) $h$, greater $h$ resulted in smoother density estimates. "
   ]
  },
  {
   "cell_type": "code",
   "execution_count": 6,
   "metadata": {
    "collapsed": true
   },
   "outputs": [],
   "source": [
    "# estimate empirical density using Gaussian kernel\n",
    "# inputs: observations X as array; bandwidth (smoothing parameter) h; number of bins\n",
    "# outputs: support range x; estimated density f\n",
    "def kernel(x):\n",
    "    return 1/(2*np.pi)**0.5*np.exp(-x**2/2)\n",
    "    \n",
    "def kernel_density(X, h, dx):\n",
    "    f = []\n",
    "    x = np.arange(min(X),max(X), dx)\n",
    "\n",
    "    for i in range(len(x)):\n",
    "        f.append(np.sum(np.array([kernel((x[i] - r)/h) for r in X])))\n",
    "\n",
    "    return x, np.array(f)/h/len(X)\n",
    "\n",
    "def VaR_kernel(X, alpha, h, dx):\n",
    "    \n",
    "    x, f = kernel_density(X, h, dx)   \n",
    "    a = 1\n",
    "    i = len(x) - 1\n",
    "    while a >= alpha:\n",
    "        var = x[i]\n",
    "        a -= f[i]*dx\n",
    "        i -= 1\n",
    "    return var\n",
    "\n",
    "def ES_kernel(X, alpha, h, dx):\n",
    "    \n",
    "    x, f = kernel_density(X, h, dx)\n",
    "    \n",
    "    a = 1\n",
    "    i = len(x) - 1\n",
    "    es = 0\n",
    "    while a >= alpha:\n",
    "        es += x[i]*f[i]*dx\n",
    "        a -= f[i]*dx\n",
    "        i -= 1\n",
    "    return es/(1 - alpha)"
   ]
  },
  {
   "cell_type": "code",
   "execution_count": 7,
   "metadata": {},
   "outputs": [
    {
     "data": {
      "text/plain": [
       "Text(0.5, 1.0, 'Kernel density estimate for loss distribution')"
      ]
     },
     "execution_count": 7,
     "metadata": {},
     "output_type": "execute_result"
    },
    {
     "data": {
      "image/png": "[encoded data removed]",
      "text/plain": [
       "<Figure size 432x288 with 1 Axes>"
      ]
     },
     "metadata": {
      "needs_background": "light"
     },
     "output_type": "display_data"
    }
   ],
   "source": [
    "plt.hist(loss, bins = 100)\n",
    "\n",
    "h = [0.001, 0.003, 0.01]\n",
    "dx = 0.0001\n",
    "\n",
    "for h_i in h:\n",
    "    x, f = kernel_density(loss, h_i, dx)\n",
    "    plt.plot(x, f)\n",
    "    \n",
    "plt.legend(['h = ' + str(h[0]), 'h = ' + str(h[1]), 'h = ' + str(h[2])])\n",
    "plt.title('Kernel density estimate for loss distribution')"
   ]
  },
  {
   "cell_type": "code",
   "execution_count": 8,
   "metadata": {},
   "outputs": [
    {
     "data": {
      "text/plain": [
       "Text(0.5, 1.0, 'VaR as function of bandwidth parameter of the kernel')"
      ]
     },
     "execution_count": 8,
     "metadata": {},
     "output_type": "execute_result"
    },
    {
     "data": {
      "image/png": "[encoded data removed]",
      "text/plain": [
       "<Figure size 432x288 with 1 Axes>"
      ]
     },
     "metadata": {
      "needs_background": "light"
     },
     "output_type": "display_data"
    }
   ],
   "source": [
    "# alpha = 0.99\n",
    "\n",
    "h = np.arange(0.001, 0.0101, 0.001)\n",
    "\n",
    "VaR = []\n",
    "ES = []\n",
    "\n",
    "for h_i in h:\n",
    "    VaR.append(VaR_kernel(loss, alpha, h_i, dx))\n",
    "    ES.append(ES_kernel(loss, alpha, h_i, dx))\n",
    "\n",
    "plt.plot(h, VaR)\n",
    "plt.title('VaR as function of bandwidth parameter of the kernel')"
   ]
  },
  {
   "cell_type": "code",
   "execution_count": 9,
   "metadata": {},
   "outputs": [
    {
     "name": "stdout",
     "output_type": "stream",
     "text": [
      "method    kernel (h = 0.003)\n",
      "VaR                0.0218963\n",
      "ES                 0.0270953\n",
      "Name: 2, dtype: object\n"
     ]
    }
   ],
   "source": [
    "result = result.append(pd.DataFrame([['kernel (h = 0.003)', VaR_kernel(loss, alpha, 0.003, dx), ES_kernel(loss, alpha, 0.003, dx)]], \n",
    "                                    columns = ['method', 'VaR', 'ES']), ignore_index = True)\n",
    "\n",
    "print(result.iloc[-1,:])"
   ]
  },
  {
   "cell_type": "markdown",
   "metadata": {},
   "source": [
    "### Extreme Value Theory (EVT)\n",
    "\n",
    "When one needs to evaluate VaR with $\\alpha >>$ (99% or even 99.99%), it happens that we usually have so few observations that the usual estimators (discussed above) would be bias. In such case, EVT is a useful tool to tackle this problem. \n",
    "\n",
    "We consider a sequence $X_n$ of i.i.d. variables with cdf $F(x)$ and let $Y_n$ be the largest among the variables, its distribution is denoted $F^n(x)$. \n",
    "\n",
    "\\begin{equation}\n",
    "    \\lim\\limits_{n \\to \\infty} P\\Big(\\frac{Y_n - b_n}{a_n} \\leq x\\Big) = \\lim\\limits_{n \\to \\infty}F^n(a_nx + b_n) = G(x)\n",
    "    \\tag{4}\n",
    "\\end{equation}\n",
    "\n",
    "Then $G(x)$ is the extremal distribution function and $F^n(x)$ lies at its domain of attraction (DoA). Consider the generalised extreme value (GEV) distribution which is characterised by 2 parameters: the shape parameter $\\xi$ and the scale parameter $\\sigma$\n",
    "\\begin{equation}\n",
    "    G_{\\xi, \\sigma}(x) = \n",
    "    \\begin{cases}\n",
    "        1 - exp\\Big(\\big(-1+\\frac{\\xi}{\\sigma} x\\big)_+^{-1/\\xi}\\Big) \\text{ if } \\xi != 0\\\\\n",
    "        1 - exp(-e^{-\\frac{x}{\\sigma}}) \\text{ if } \\xi = 0\n",
    "    \\end{cases}\n",
    "    \\tag{5}\n",
    "\\end{equation}\n",
    "\n",
    "This applies for $x>0$ and the scale parameter should be strictly positive $\\sigma >0$.\n",
    "\n",
    "#### Pickand estimator\n",
    "The following section introduces a widely accepted method to estimate the parameters in GEV method which was introduced by Pickands (1975). In short, they are given by:\n",
    "\\begin{equation}\n",
    "    \\begin{cases}\n",
    "        \\xi = \\dfrac{1}{\\log(2)}\\log\\bigg(\\dfrac{Z_M - Z_{2M}}{Z_{2M} - Z_{4M}}\\bigg) \\\\\n",
    "        \\sigma = \\dfrac{Z_{2M} - Z_{4M}}{\\int_0^{log 2} e^{\\xi u}du} = \\dfrac{\\xi}{(2^\\xi - 1)}\\big(Z_{2M} - Z_{4M}\\big)\n",
    "    \\end{cases}\n",
    "    \\tag{6}\n",
    "\\end{equation}\n",
    "\n",
    "where $Z$ is the descending ordered statistics (the realised losses). $M$ is chosen so as to minimise the maximal \"distance\" between the empirical upper tail distribution and the extremal distribution. \n",
    "\\begin{equation}\n",
    "    d_M = \\min\\limits_{1 \\leq l \\leq int(n/4)} \\max\\limits_{x} \\Big|\\hat{F_l}(x) - \\hat{G_l}(x)\\Big|\n",
    "    \\tag{7}\n",
    "\\end{equation}"
   ]
  },
  {
   "cell_type": "code",
   "execution_count": 10,
   "metadata": {
    "collapsed": true
   },
   "outputs": [],
   "source": [
    "class EVT:\n",
    "    import numpy as np\n",
    "    \n",
    "    def __init__(self, data, x_range):\n",
    "        self.data = data\n",
    "        self.x_range = x_range\n",
    "\n",
    "# EVT parameters estimator by Pickands (1975)\n",
    "# input: data as array\n",
    "# output: xi - shape parameter, sigma - scale parameter, Z_{4M} - location parameter\n",
    "    def parameters(self):\n",
    "        def F_l(Z, x, l):\n",
    "            return 1 - np.array(Z[:4*l-1] - Z[4*l-1] >= x).sum()/4/l\n",
    "\n",
    "        def G_l(x, xi, sigma):\n",
    "            if xi == 0:\n",
    "                    G = 1 - np.exp(-x/sigma)\n",
    "            elif xi > 0:   \n",
    "                G = 1 - (1 + xi*x/sigma)**(-1/xi)\n",
    "            else:\n",
    "                if x <= sigma/-xi:\n",
    "                    G = 1 - (1 + xi*x/sigma)**(-1/xi)\n",
    "                else:\n",
    "                    G = 1\n",
    "\n",
    "            return G\n",
    "        Z = -np.sort(-self.data)\n",
    "        d_l = []\n",
    "        for l in range(1, int(len(Z)/4)+1):  \n",
    "            d = []    \n",
    "            for x in self.x_range:\n",
    "                F = F_l(Z, x, l)\n",
    "                xi = np.log(2)**-1*np.log((Z[l-1] - Z[2*l-1])/(Z[2*l-1] - Z[4*l-1]))\n",
    "                sigma = (Z[2*l-1] - Z[4*l-1])*xi/(2**xi - 1)\n",
    "                G = G_l(x, xi, sigma)\n",
    "                d.append(abs(F-G))\n",
    "            d_l.append(max(d))\n",
    "            \n",
    "        M = np.argmin(np.array(d_l)) + 1\n",
    "        \n",
    "        xi = np.log(2)**-1*np.log((Z[M-1] - Z[2*M-1])/(Z[2*M-1] - Z[4*M-1]))\n",
    "        sigma = (Z[2*M-1] - Z[4*M-1])*xi/(2**xi - 1)\n",
    "\n",
    "        return xi, sigma, Z[4*M-1]\n",
    "    \n",
    "    def VaR(self, alpha):\n",
    "        \n",
    "        xi, sigma, u = self.parameters()\n",
    "        return u + sigma/xi*((len(self.data)/np.array([self.data >= u]).sum()*(1 - alpha))**-xi - 1)\n",
    "    \n",
    "    def ES(self, alpha):\n",
    "        xi, sigma, u = self.parameters()\n",
    "        return (self.VaR(alpha) + sigma - xi*u)/(1-xi) \n"
   ]
  },
  {
   "cell_type": "markdown",
   "metadata": {},
   "source": [
    "#### VaR and ES from Pickand estimator\n",
    "\n",
    "Once the parameters are derived, VaR can be calculated directly using the following formula (McNeil 1999):\n",
    "\\begin{equation}\n",
    "    VaR_\\alpha = Z_{4M} + \\frac{\\sigma}{\\xi}\\bigg(\\Big(\\frac{n}{N_{Z_{4M}}}(1-\\alpha)\\Big)^{-\\xi} - 1\\bigg)\n",
    "    \\tag{8}\n",
    "\\end{equation}\n",
    "On the other hand, ES can be deduced as (McNeil 1999):\n",
    "\n",
    "\\begin{align}\n",
    "    ES_\\alpha = \\dfrac{VaR_\\alpha + \\sigma - \\xi Z_{4M}}{1 - \\xi}\n",
    "    \\tag{9}\n",
    "\\end{align}\n"
   ]
  },
  {
   "cell_type": "code",
   "execution_count": 11,
   "metadata": {},
   "outputs": [
    {
     "name": "stdout",
     "output_type": "stream",
     "text": [
      "method    EVT: (shape, scale, location) = (-0.0104083962...\n",
      "VaR                                               0.0219729\n",
      "ES                                                0.0274938\n",
      "Name: 3, dtype: object\n"
     ]
    }
   ],
   "source": [
    "evt = EVT(loss, np.arange(0.0101, 0.0501, 0.005))\n",
    "\n",
    "result = result.append(pd.DataFrame([['EVT: (shape, scale, location) = ' + str(evt.parameters()), evt.VaR(alpha), evt.ES(alpha)]], \n",
    "                                    columns = ['method', 'VaR', 'ES']), ignore_index = True)\n",
    "\n",
    "print(result.iloc[-1,:])"
   ]
  },
  {
   "cell_type": "markdown",
   "metadata": {},
   "source": [
    "#### Leadbetter's extremal index for a dataset\n",
    "\n",
    "Leadbetter's extremal index (1983) is a parameter measuring the degree of extreme clustering in a sample. It is estimated by the reciprocal of the mean cluster size as proposed by Smith & Weissman (1994).\n",
    "\\begin{equation}\n",
    "    \\hat{\\theta} = \\dfrac{no. clusters}{no. exceedances}\n",
    "    \\tag{10}\n",
    "\\end{equation}\n",
    "\n",
    "The extremal index affect VaR in the following manner:\n",
    "\\begin{equation}\n",
    "    VaR_\\alpha = Z_{4M} + \\frac{\\sigma}{\\xi}\\bigg(\\Big(\\frac{n}{N_{Z_{4M}}}\\theta(1-\\alpha)\\Big)^{-\\xi} - 1\\bigg)\n",
    "    \\tag{11}\n",
    "\\end{equation}"
   ]
  },
  {
   "cell_type": "code",
   "execution_count": 12,
   "metadata": {
    "collapsed": true
   },
   "outputs": [],
   "source": [
    "# Leadbetter 1983 method for estimating extremal index\n",
    "# input: data X as array, threshold u, no. of consecutives exceedances k as integer\n",
    "# output: extremal index theta\n",
    "def extremal_index(X, u, k):\n",
    "    exceed = 0\n",
    "    n_exceed = np.array(X < -u).sum()\n",
    "    n_cluster = 0\n",
    "    for i in range(len(X)-k):\n",
    "        if np.array(X[i:i+k] < -u).sum() == k:\n",
    "            n_cluster += 1    \n",
    "\n",
    "    return n_cluster/n_exceed"
   ]
  },
  {
   "cell_type": "code",
   "execution_count": 13,
   "metadata": {},
   "outputs": [
    {
     "data": {
      "text/plain": [
       "0.5517241379310345"
      ]
     },
     "execution_count": 13,
     "metadata": {},
     "output_type": "execute_result"
    }
   ],
   "source": [
    "extremal_index(loss, evt.parameters()[2], 2)"
   ]
  },
  {
   "cell_type": "code",
   "execution_count": 210,
   "metadata": {},
   "outputs": [
    {
     "name": "stdout",
     "output_type": "stream",
     "text": [
      "VaR (adj.) =  0.01693873086850003\n",
      "ES (adj.) =  0.02088415231347427\n"
     ]
    }
   ],
   "source": [
    "xi, sigma, u = evt.parameters()\n",
    "\n",
    "var_adj = u + sigma/xi*((len(loss)/np.array([loss >= u]).sum()*(1 - alpha))**-xi - 1)\n",
    "\n",
    "print('VaR (adj.) = ' , var_adj)\n",
    "print('ES (adj.) = ' , (var_adj + sigma - xi*u)/(1-xi) )"
   ]
  },
  {
   "cell_type": "markdown",
   "metadata": {},
   "source": [
    "### Hurst exponent as a measurement of autocorrelation of a time series\n",
    "\n",
    "Hurst exponent allows us to distinguish the characteristics of the time series whether it is trending ($H >1/2$) or mean-reverting ($H< 1/2$). This measurement comes along with the concept fractional Brownian motion (fBm) - a generalisation of Brownian motion.\n",
    "\n",
    "Hurst exponent is often estimated using absolute moment method. The absolute moment of order $k>0$ for the log-price process $S$ observed in time interval $[0, T]$ with $N$ equispaced increments is defined as:\n",
    "\\begin{equation}\n",
    "    M_{k, N} (S) = \\dfrac{1}{N} \\sum\\limits_{i=1}^N \\Big| S_{i\\times T/N} - S_{(i-1)\\times T/N} \\Big|^k\n",
    "    \\tag{11}\n",
    "\\end{equation}\n",
    "\n",
    "Then the estimator of $H$ is $-1/k$ times the slope of the log-log plot $ln(N)$ $\\to$ $\\ln(M_{k, N}(S))$"
   ]
  },
  {
   "cell_type": "code",
   "execution_count": 14,
   "metadata": {
    "collapsed": true
   },
   "outputs": [],
   "source": [
    "# function estimates Hurst exponent using absolute moment method\n",
    "# inputs: time series X as array and moment order k\n",
    "# outputs: Hurst exponent estimate; Moment array M true value; Moment array predicted\n",
    "def Hurst_estimate(S, N, k):\n",
    "    M = []\n",
    "    for n in N:\n",
    "        s = 0\n",
    "        for i in range(1,n):\n",
    "            s += abs(S[i*int(len(S)/n)] - S[(i-1)*int(len(S)/n)])**k\n",
    "\n",
    "        M.append(1/n*s)\n",
    "\n",
    "    from sklearn.linear_model import LinearRegression\n",
    "\n",
    "    regressor = LinearRegression()\n",
    "\n",
    "    regressor.fit(np.log(N_range).reshape(-1, 1), np.log(M).reshape(-1, 1))\n",
    "\n",
    "    return regressor.coef_/-k, M, regressor.predict(np.log(N_range).reshape(-1, 1))"
   ]
  },
  {
   "cell_type": "code",
   "execution_count": 15,
   "metadata": {},
   "outputs": [
    {
     "name": "stdout",
     "output_type": "stream",
     "text": [
      "Hurst exponent estimate = [[0.53390739]]\n"
     ]
    },
    {
     "data": {
      "text/plain": [
       "[<matplotlib.lines.Line2D at 0x2ab05d906d8>]"
      ]
     },
     "execution_count": 15,
     "metadata": {},
     "output_type": "execute_result"
    },
    {
     "data": {
      "image/png": "[encoded data removed]",
      "text/plain": [
       "<Figure size 432x288 with 1 Axes>"
      ]
     },
     "metadata": {
      "needs_background": "light"
     },
     "output_type": "display_data"
    }
   ],
   "source": [
    "k = 2\n",
    "\n",
    "S = np.log(np.array(data['Adj Close'].dropna()))\n",
    "N_range = np.arange(10,len(S)+1)\n",
    "H, M, M_hat = Hurst_estimate(S, N_range, k)\n",
    "\n",
    "print('Hurst exponent estimate = ' + str(H))\n",
    "\n",
    "plt.scatter(np.log(N_range), np.log(M))\n",
    "plt.plot(np.log(N_range), M_hat, color = 'red')"
   ]
  },
  {
   "cell_type": "markdown",
   "metadata": {},
   "source": [
    "# 2. VaR distribution under fBm assumption on log-price\n",
    "\n",
    "We consider Wood-Chan method, or circulant method, to simulate fBm in this project. The Gaussian vector $\\xi$ with mean $\\mu$ and covariance matrix $C$ can be represented as $\\xi = \\mu + S\\zeta$ where $\\zeta$ is a standard Gaussian vector and the matrix is such that $SS^T = C$. As a consequence, the prolem boils down to generating the vector $\\zeta$ and the calculation of the \"square root\" matrix $S$.\n",
    "\n",
    "The procedure follows the steps as recommended by Shevchenko (2014). In order to simulate $N$ steps of an fBm on the interval $[0, T]$, one needs to calculate the coefficients of the covariance matrix:\n",
    "\\begin{equation}\n",
    "    \\rho_H(n) = \\dfrac{1}{2} \\Big((n+1)^{2H} + (n-1)^{2H} - 2n^{2H}\\Big)\n",
    "    \\tag{12}\n",
    "\\end{equation}\n",
    "\n",
    "Then the circulant matrix of size $M = 2(N-1)$ is set with coefficients:\n",
    "\\begin{equation}\n",
    "    \\begin{cases}\n",
    "        c_k = \\rho_H(k) \\text{ for } k = 1, 2, ..., N-1\\\\\n",
    "        c_k = \\rho_H(M-k) \\text{ for } k = N, N+1, ..., M-1\n",
    "    \\end{cases}    \n",
    "    \\tag{13}\n",
    "\\end{equation}\n",
    "\n",
    "Take the real part of the inverse FFT (Fast Fourrier Transform) of the standard Gaussian vector $\\zeta$ and multiply it with the eigenvalues ${\\lambda}_M$ of the above matrix (deduced by FFT method). Next, take the real part of the FFT of the first $N$ elements of the result to get the fGn (fractional Gaussian noise) and multiply them by $(T/N)^H$ to get the increments of fBm. Finally, its cumulative sum would be a simulated path of fBm."
   ]
  },
  {
   "cell_type": "code",
   "execution_count": 16,
   "metadata": {
    "collapsed": true
   },
   "outputs": [],
   "source": [
    "def rho(H, n):\n",
    "    return 0.5*((n+1)**(2*H) + (n-1)**(2*H) - 2*n**(2*H))\n",
    "\n",
    "def Lambda(H, N):\n",
    "    M = 2*N - 2\n",
    "    c = []\n",
    "    c.append(1)\n",
    "    for m in range(1, N):\n",
    "        c.append(rho(H, m))\n",
    "\n",
    "    c = c + [0] + c[N-1:0:-1]\n",
    "\n",
    "    return np.real(np.fft.fft(np.array((c))))**0.5\n",
    "\n",
    "def fGn(lambd, N):\n",
    "    w = np.zeros(2*N, dtype=complex)\n",
    "    \n",
    "    gn = np.random.normal(size = (N, 1))\n",
    "    gn2 = np.random.normal(size = (N, 1))\n",
    "    for i in range(2*N):\n",
    "        if i == 0:\n",
    "            w[i] = (lambd[i] / (2 * N))**0.5 * gn[i]\n",
    "        elif i < N:\n",
    "            w[i] = (lambd[i] / (4 * N))**0.5 * (gn[i] + 1j * gn2[i])\n",
    "        elif i == N:\n",
    "            w[i] = (lambd[i] / (2 * N))**0.5 * gn2[0]\n",
    "        else:\n",
    "            w[i] = (lambd[i] / (4 * N))**0.5 * (gn[2 * N - i] - 1j * gn2[2 * N - i])\n",
    "\n",
    "    # Resulting z is fft of sequence w. Discard small imaginary part (z\n",
    "    # should be real in theory).\n",
    "    z = np.fft.fft(w)\n",
    "    fgn = z[:N].real\n",
    "    return fgn\n",
    "\n",
    "def fBm(fGn, H):\n",
    "    fBm_incr = fGn*(1/(len(fGn)))**H\n",
    "\n",
    "    fBm = []\n",
    "    fBm.append(0)\n",
    "    for i in range(1,len(fGn)):\n",
    "        fBm.append(np.array(fBm_incr[:i]).sum())\n",
    "                   \n",
    "    return fBm"
   ]
  },
  {
   "cell_type": "code",
   "execution_count": 17,
   "metadata": {},
   "outputs": [
    {
     "data": {
      "text/plain": [
       "(array([ 1.,  0.,  0.,  0.,  1.,  1.,  0.,  2.,  0.,  2.,  1.,  0.,  5.,\n",
       "         5.,  3.,  2.,  5., 10.,  4.,  2.,  6.,  3.,  7.,  5.,  2.,  4.,\n",
       "         2.,  1.,  2.,  3.,  4.,  4.,  0.,  3.,  2.,  1.,  2.,  0.,  2.,\n",
       "         2.,  0.,  0.,  0.,  0.,  0.,  0.,  0.,  0.,  0.,  1.]),\n",
       " array([0.00070306, 0.00071576, 0.00072846, 0.00074116, 0.00075386,\n",
       "        0.00076656, 0.00077926, 0.00079196, 0.00080466, 0.00081736,\n",
       "        0.00083006, 0.00084276, 0.00085546, 0.00086816, 0.00088086,\n",
       "        0.00089356, 0.00090626, 0.00091896, 0.00093166, 0.00094436,\n",
       "        0.00095706, 0.00096976, 0.00098246, 0.00099516, 0.00100786,\n",
       "        0.00102056, 0.00103326, 0.00104596, 0.00105866, 0.00107136,\n",
       "        0.00108406, 0.00109676, 0.00110946, 0.00112216, 0.00113486,\n",
       "        0.00114756, 0.00116026, 0.00117296, 0.00118566, 0.00119836,\n",
       "        0.00121106, 0.00122376, 0.00123646, 0.00124916, 0.00126186,\n",
       "        0.00127456, 0.00128726, 0.00129996, 0.00131266, 0.00132536,\n",
       "        0.00133806]),\n",
       " <a list of 50 Patch objects>)"
      ]
     },
     "execution_count": 17,
     "metadata": {},
     "output_type": "execute_result"
    },
    {
     "data": {
      "image/png": "[encoded data removed]",
      "text/plain": [
       "<Figure size 432x288 with 1 Axes>"
      ]
     },
     "metadata": {
      "needs_background": "light"
     },
     "output_type": "display_data"
    }
   ],
   "source": [
    "H = 0.53390739\n",
    "N = 250\n",
    "\n",
    "L = Lambda(H, N)\n",
    "muy = loss.mean()\n",
    "sigma = loss.std()\n",
    "dt = 1/N\n",
    "\n",
    "VaR = []\n",
    "for n in range(100):\n",
    "    Gn = fGn(L, N)\n",
    "    l = (muy - 0.5*sigma**2)*dt + sigma*Gn*(1/(len(Gn)))**H\n",
    "    evt = EVT(l, np.arange(0.0101, 0.0501, 0.005))\n",
    "    VaR.append(evt.VaR(0.99))\n",
    "\n",
    "plt.hist(VaR, bins = 50)"
   ]
  },
  {
   "cell_type": "markdown",
   "metadata": {},
   "source": [
    "# 3. Backtesting\n",
    "\n",
    "Having discussed the common methodologies for estimating VaR, this part dedicates to evaluating the precision of each estimator. This section encompasses 3 common tests: the standard coverage test, the distribution test and the independence test.\n",
    "\n",
    "### Standard coverage test\n",
    "\n",
    "Coverage test is a hypothesis test if the actual frequency of exceedances $q^*$ equals (or greater than) the presumed frequency $q$ (where $q = 1-\\alpha$). \n",
    "\\begin{equation}\n",
    "    \\mathcal{H}_0: q^* = q\n",
    "\\end{equation}\n",
    "The number of exceedances $X$ (# obs. loss > VaR) is a binomial variable, i.e. $X \\sim \\mathcal{B}(\\text{ no. of obs.}, 1-\\alpha)$. \n",
    "\\begin{equation}\n",
    "    X = \\sum 1_{loss > VaR}\n",
    "\\end{equation}\n",
    "\n",
    "The number of observations here is set to 1-year (250 days), that is the time window for backtesting. At significance level $\\epsilon$ we accept the null hypothesis if the number of exceedances is in the interval $[x_1, x_2]$ such that:\n",
    "\\begin{equation}\n",
    "    P\\big(X \\in [x_1, x_2]\\big) > 1 - \\epsilon\n",
    "\\end{equation}"
   ]
  },
  {
   "cell_type": "code",
   "execution_count": 105,
   "metadata": {
    "collapsed": true
   },
   "outputs": [],
   "source": [
    "# Perform two-sided test of the null hypothesis that the probability of success in a Bernoulli experiment is p.\n",
    "# inputs: realised loss (array) in backtesting sample, 1-day VaR (array) same dimension\n",
    "# return \n",
    "def standard_coverage_test(loss, VaR, alpha, significance_level):\n",
    "    from statsmodels.stats.proportion import proportion_confint\n",
    "    \n",
    "    exceedance = np.array(loss > VaR).sum()\n",
    "    low, high = proportion_confint(exceedance, len(loss), significance_level)\n",
    "    q = 1-alpha\n",
    "    \n",
    "    if (q >= low) & (q <= high):\n",
    "        print('Accept null hypothesis')\n",
    "    else:\n",
    "        print('Reject null hypothesis')\n",
    "        \n",
    "    return low, high"
   ]
  },
  {
   "cell_type": "markdown",
   "metadata": {},
   "source": [
    "### Distribution test\n",
    "\n",
    "This test checks the normality assumption about the loss distribution. From graphical view point, the loss distribution disperses widely at both ends of the distribution. When calculating sample correlation between the loss distribution and the quantile of normal distribution, it yields 0.047 which is a small value. This indicates dissimilarity between two distributions."
   ]
  },
  {
   "cell_type": "code",
   "execution_count": 122,
   "metadata": {},
   "outputs": [
    {
     "name": "stdout",
     "output_type": "stream",
     "text": [
      "corr = 0.047264269200366506\n"
     ]
    },
    {
     "data": {
      "image/png": "[encoded data removed]",
      "text/plain": [
       "<Figure size 432x288 with 1 Axes>"
      ]
     },
     "metadata": {
      "needs_background": "light"
     },
     "output_type": "display_data"
    }
   ],
   "source": [
    "from statsmodels.graphics.gofplots import qqplot\n",
    "\n",
    "qqplot(loss, line = '45', fit = True)\n",
    "\n",
    "def Filliben_test(data):\n",
    "    from scipy.special import erfinv\n",
    "    \n",
    "    n = len(data)\n",
    "    x = []\n",
    "    for j in range(1, len(data)+1):\n",
    "        x.append(2**0.5 * erfinv(2*((j - 0.5)/len(data)) - 1))\n",
    "    \n",
    "    return np.corrcoef(np.array(x), data)[0,1]\n",
    "\n",
    "print('corr = ' + str(Filliben_test(loss[-250:])))"
   ]
  },
  {
   "cell_type": "markdown",
   "metadata": {},
   "source": [
    "### Exceedance's Independence test\n",
    "\n",
    "Christoffersen’s (1998) independence test is a likelihood ratio test that looks for unusually frequent consecutive exceedances—i.e. instances when both $i^{t–1} = 1$ and $i^t = 1$ for some t. The test is well known, since it was first proposed in an often-cited endorsement of testing for independence of exceedances."
   ]
  },
  {
   "cell_type": "code",
   "execution_count": 137,
   "metadata": {},
   "outputs": [],
   "source": [
    "def independence_test(loss, VaR):\n",
    "    import numpy as np\n",
    "    \n",
    "    x = np.array(loss > VaR)*1\n",
    "    x1 = np.roll(x, 1)[1:]\n",
    "    \n",
    "    a_00 = np.array([x[1:] + x1 == [0] * (len(x) - 1)]).sum()\n",
    "    a_11 = np.array([x[1:] + x1 == [2] * (len(x) - 1)]).sum()\n",
    "    \n",
    "    a_01 = np.array([x[1:] - x1 == [-1] * (len(x) - 1)]).sum()\n",
    "    a_10 = np.array([x[1:] - x1 == [1] * (len(x) - 1)]).sum()\n",
    "    \n",
    "    q0 = a_00/(a_00 + a_01)\n",
    "    q1 = a_10/(a_10 + a_11)\n",
    "    q = (a_00 + a_01) / (a_00 + a_01 + a_10 + a_11)\n",
    "    \n",
    "    L = (q/q0)**a_00 * ((1-q)/(1-q0))**a_01 * (q/q1)**a_10 * ((1-q)/(1-q1))**a_11\n",
    "    \n",
    "    critical_range = {'1%': 6.635, '5%': 3.841}\n",
    "    return -2*np.log(L), critical_range"
   ]
  },
  {
   "cell_type": "markdown",
   "metadata": {},
   "source": [
    "Backtesting the calculated VaR from the above-mentioned methods, the parametric Gaussian method is rejected at 5% of significance level for coverage test. Meanwhile, empirical quantile and parametric Gaussian method do not pass independence test at 5% significant level."
   ]
  },
  {
   "cell_type": "code",
   "execution_count": 139,
   "metadata": {},
   "outputs": [
    {
     "name": "stdout",
     "output_type": "stream",
     "text": [
      "empirical quantile: \n",
      "Accept null hypothesis\n",
      "(0.0026457390954722736, 0.03735426090452773)\n"
     ]
    },
    {
     "data": {
      "text/plain": [
       "(3.153989286651423, {'1%': 6.635, '5%': 3.841})"
      ]
     },
     "execution_count": 139,
     "metadata": {},
     "output_type": "execute_result"
    }
   ],
   "source": [
    "# backtesting for empirical quantile method\n",
    "VaR = []\n",
    "for i in range(512, len(loss)):\n",
    "    VaR.append(VaR_quantile(loss[:i+1], alpha))\n",
    "    \n",
    "print('empirical quantile: ')\n",
    "print(standard_coverage_test(loss[-250:], VaR, alpha, 0.05))\n",
    "\n",
    "independence_test(loss[-250:], VaR)"
   ]
  },
  {
   "cell_type": "code",
   "execution_count": 140,
   "metadata": {},
   "outputs": [
    {
     "name": "stdout",
     "output_type": "stream",
     "text": [
      "parametric Gaussian: \n",
      "Reject null hypothesis\n",
      "(0.01290766474231166, 0.05909233525768834)\n"
     ]
    },
    {
     "data": {
      "text/plain": [
       "(1.0063610339314302, {'1%': 6.635, '5%': 3.841})"
      ]
     },
     "execution_count": 140,
     "metadata": {},
     "output_type": "execute_result"
    }
   ],
   "source": [
    "# backtesting for parametric Gaussian method\n",
    "VaR = []\n",
    "for i in range(512, len(loss)):\n",
    "    VaR.append(VaR_Gaussian(loss[:i+1], alpha))\n",
    "    \n",
    "print('parametric Gaussian: ')\n",
    "print(standard_coverage_test(loss[-250:], VaR, alpha, 0.05))\n",
    "\n",
    "independence_test(loss[-250:], VaR)"
   ]
  },
  {
   "cell_type": "code",
   "execution_count": 141,
   "metadata": {},
   "outputs": [
    {
     "name": "stdout",
     "output_type": "stream",
     "text": [
      "kernel: \n",
      "Accept null hypothesis\n",
      "(0.0, 0.025497308735914662)\n"
     ]
    },
    {
     "data": {
      "text/plain": [
       "(5.425235005524173, {'1%': 6.635, '5%': 3.841})"
      ]
     },
     "execution_count": 141,
     "metadata": {},
     "output_type": "execute_result"
    }
   ],
   "source": [
    "# backtesting for kernel method\n",
    "VaR = []\n",
    "for i in range(512, len(loss)):\n",
    "    VaR.append(VaR_kernel(loss[:i+1], alpha, 0.003, dx))\n",
    "    \n",
    "print('kernel: ')\n",
    "print(standard_coverage_test(loss[-250:], VaR, alpha, 0.05))\n",
    "\n",
    "independence_test(loss[-250:], VaR)"
   ]
  },
  {
   "cell_type": "code",
   "execution_count": 142,
   "metadata": {},
   "outputs": [
    {
     "name": "stdout",
     "output_type": "stream",
     "text": [
      "EVT: \n",
      "Accept null hypothesis\n",
      "(0.0004462316240715046, 0.03155376837592849)\n"
     ]
    },
    {
     "data": {
      "text/plain": [
       "(4.106993251527207, {'1%': 6.635, '5%': 3.841})"
      ]
     },
     "execution_count": 142,
     "metadata": {},
     "output_type": "execute_result"
    }
   ],
   "source": [
    "# backtesting for EVT method\n",
    "VaR = []\n",
    "for i in range(512, len(loss)):\n",
    "    evt = EVT(loss[:i+1], np.arange(0.0101, 0.0501, 0.005))\n",
    "    VaR.append(evt.VaR(alpha))\n",
    "    \n",
    "print('EVT: ')\n",
    "print(standard_coverage_test(loss[-250:], VaR, alpha, 0.05))\n",
    "\n",
    "independence_test(loss[-250:], VaR)"
   ]
  },
  {
   "cell_type": "markdown",
   "metadata": {},
   "source": [
    "The dataset passes the independence test at 5% significance level."
   ]
  },
  {
   "cell_type": "markdown",
   "metadata": {},
   "source": [
    "# 4. Robustness of VaR estimators\n",
    "\n",
    "This section studies the impact of noise on VaR measures by two means: (i) adding noise to or (ii) removing noise from the price return process.\n",
    "\n",
    "### Adding noise to price return series"
   ]
  },
  {
   "cell_type": "code",
   "execution_count": 153,
   "metadata": {},
   "outputs": [
    {
     "name": "stdout",
     "output_type": "stream",
     "text": [
      "                                              method       VaR        ES\n",
      "0                                          empirical  0.020694  0.026793\n",
      "1                                           Gaussian  0.018264  0.020963\n",
      "2                                 kernel (h = 0.003)  0.021896  0.027095\n",
      "3  EVT: (shape, scale, location) = (-0.0104083962...  0.021973  0.027494\n",
      "                                              method       VaR        ES\n",
      "0                                          empirical  0.027455  0.032162\n",
      "1                                           Gaussian  0.026356  0.030217\n",
      "2                                 kernel (h = 0.003)  0.028398  0.032752\n",
      "3  EVT: (shape, scale, location) = (-0.1702500472...  0.028392  0.032589\n"
     ]
    }
   ],
   "source": [
    "z = np.random.normal(scale = loss.std(), size = len(loss))\n",
    "\n",
    "loss2 = loss + z\n",
    "\n",
    "alpha = 0.99\n",
    "\n",
    "result2 = pd.DataFrame(columns = ['method', 'VaR', 'ES'])\n",
    "result2 = result2.append(pd.DataFrame([['empirical', VaR_quantile(loss2, alpha), ES_quantile(loss2, alpha)]], \n",
    "                                    columns = ['method', 'VaR', 'ES']), ignore_index = True)\n",
    "\n",
    "result2 = result2.append(pd.DataFrame([['Gaussian', VaR_Gaussian(loss2, alpha), ES_Gaussian(loss2, alpha)]], \n",
    "                                    columns = ['method', 'VaR', 'ES']), ignore_index = True)\n",
    "\n",
    "result2 = result2.append(pd.DataFrame([['kernel (h = 0.003)', VaR_kernel(loss2, alpha, 0.003, dx), ES_kernel(loss2, alpha, 0.003, dx)]], \n",
    "                                    columns = ['method', 'VaR', 'ES']), ignore_index = True)\n",
    "\n",
    "evt = EVT(loss2, np.arange(0.0101, 0.0501, 0.005))\n",
    "result2 = result2.append(pd.DataFrame([['EVT: (shape, scale, location) = ' + str(evt.parameters()), evt.VaR(alpha), evt.ES(alpha)]], \n",
    "                                    columns = ['method', 'VaR', 'ES']), ignore_index = True)\n",
    "\n",
    "print(result)\n",
    "print(result2)"
   ]
  },
  {
   "cell_type": "markdown",
   "metadata": {},
   "source": [
    "Compare the percentage change of VaR of each method, kernel and EVT method are stabler than the other two (empirical quantile and parametric Gaussian). VaR diameter also shrinks by 45%."
   ]
  },
  {
   "cell_type": "code",
   "execution_count": 157,
   "metadata": {},
   "outputs": [
    {
     "name": "stdout",
     "output_type": "stream",
     "text": [
      "0    0.326713\n",
      "1    0.443054\n",
      "2    0.296921\n",
      "3    0.292134\n",
      "Name: VaR, dtype: float64\n",
      "[0.00370883 0.00204162]\n"
     ]
    }
   ],
   "source": [
    "change = result2.VaR/result.VaR - 1\n",
    "VaR_diameter = np.array([result.VaR.max() - result.VaR.min(), result2.VaR.max() - result2.VaR.min()])\n",
    "\n",
    "print(change)\n",
    "print(VaR_diameter)"
   ]
  },
  {
   "cell_type": "markdown",
   "metadata": {},
   "source": [
    "### Removing noise from price return series\n",
    "\n",
    "The method of use here if the wavelet transform. Haar and Daubechies4 scale functions are applied to denoise the loss time series."
   ]
  },
  {
   "cell_type": "code",
   "execution_count": 192,
   "metadata": {
    "collapsed": true
   },
   "outputs": [],
   "source": [
    "class Haar:\n",
    "    import numpy as np\n",
    "    import matplotlib.pyplot as plt\n",
    "\n",
    "    def direct(self, f , scale):\n",
    "        N = len(f)\n",
    "        max_length = 2**(int(np.log2(len(f))) + 1)\n",
    "        max_scale = int(np.log2(len(f))) + 1\n",
    "\n",
    "        if np.log2(len(f)) - int(np.log2(len(f))) != 0:\n",
    "            f = np.pad(f, (0, max_length - N -1), mode = 'constant')\n",
    "\n",
    "        d = []\n",
    "        for i in range(min(max_scale, scale)):\n",
    "            d1 = f[1::2] - f[:len(f)-1:2]\n",
    "            s1 = f[:len(d1)*2:2] + 0.5*d1\n",
    "            f = 2**0.5*s1\n",
    "            di = 2**-0.5*d1\n",
    "            d.append(di)\n",
    "\n",
    "        return f, np.array(d)\n",
    "\n",
    "    def inverse(self, s, d, scale):\n",
    "        max_scale = len(d)\n",
    "        for i in range(min(max_scale,scale)):\n",
    "            d1 = 2**0.5*np.array(d[scale - i - 1])\n",
    "            s1 = 2**-0.5*s\n",
    "#             f = np.zeros(len(s)*2)\n",
    "#             f[::2] = s1 - 0.5*d1\n",
    "#             f[1::2] = f[::2] + d1\n",
    "            f = []\n",
    "            for n in range(0, len(s)):\n",
    "                f.append(s1[n] - 0.5*d1[n])\n",
    "                f.append(f[2*n] + d1[n])\n",
    "\n",
    "            s = np.array(f)        \n",
    "        return s\n",
    "    \n",
    "    def multiresolution(self, f, scale):\n",
    "        s, d = self.direct(f, scale)\n",
    "\n",
    "        s_prime = []\n",
    "        for i in range(scale):\n",
    "            d_prime = []\n",
    "            for j in range(scale):\n",
    "                if j == i:\n",
    "                    d_prime.append(d[i])\n",
    "                else:\n",
    "                    d_prime.append([0] * len(d[j]))\n",
    "\n",
    "            s_prime.append(self.inverse(np.zeros(len(s)), np.array(d_prime), scale))\n",
    "\n",
    "        s_prime.append(self.inverse(s, [[0] * np.array(di) for di in d], scale))\n",
    "\n",
    "        return s_prime\n",
    "\n",
    "    def plot(self, X):\n",
    "        N = len(X)\n",
    "        fig, axs = plt.subplots(N)\n",
    "        \n",
    "        for i in range(N):\n",
    "            axs[i].plot(np.array(X[i]))\n",
    "\n",
    "        plt.tight_layout()\n",
    "        plt.show()"
   ]
  },
  {
   "cell_type": "code",
   "execution_count": 198,
   "metadata": {},
   "outputs": [
    {
     "data": {
      "image/png": "[encoded data removed]",
      "text/plain": [
       "<Figure size 432x288 with 2 Axes>"
      ]
     },
     "metadata": {
      "needs_background": "light"
     },
     "output_type": "display_data"
    }
   ],
   "source": [
    "f = loss\n",
    "dwt = Haar()\n",
    "\n",
    "s = dwt.multiresolution(f.values, scale = 1)\n",
    "\n",
    "n = len(f.index)\n",
    "L = [si[:n] for si in s]\n",
    "dwt.plot(L)\n"
   ]
  },
  {
   "cell_type": "code",
   "execution_count": 199,
   "metadata": {},
   "outputs": [
    {
     "data": {
      "text/plain": [
       "[<matplotlib.lines.Line2D at 0x2ab0b3d0438>]"
      ]
     },
     "execution_count": 199,
     "metadata": {},
     "output_type": "execute_result"
    },
    {
     "data": {
      "image/png": "[encoded data removed]",
      "text/plain": [
       "<Figure size 432x288 with 1 Axes>"
      ]
     },
     "metadata": {
      "needs_background": "light"
     },
     "output_type": "display_data"
    }
   ],
   "source": [
    "signal = L[0]\n",
    "for i in range(1, len(L)):\n",
    "    signal += L[i]\n",
    "\n",
    "    \n",
    "plt.plot(f)    \n",
    "plt.plot(f.index, L[-1], color = 'red')"
   ]
  },
  {
   "cell_type": "markdown",
   "metadata": {},
   "source": [
    "Having remove the noise from the loss series, similar procedure is taken to compare this denoised process with the original one. Again, kernel and EVT method are the stabler methods. VaR diameter diminishes by roughly 70%."
   ]
  },
  {
   "cell_type": "code",
   "execution_count": 201,
   "metadata": {},
   "outputs": [
    {
     "name": "stdout",
     "output_type": "stream",
     "text": [
      "                                              method       VaR        ES\n",
      "0                                          empirical  0.020694  0.026793\n",
      "1                                           Gaussian  0.018264  0.020963\n",
      "2                                 kernel (h = 0.003)  0.021896  0.027095\n",
      "3  EVT: (shape, scale, location) = (-0.0104083962...  0.021973  0.027494\n",
      "                                              method       VaR        ES\n",
      "0                                          empirical  0.019713  0.024077\n",
      "1                                           Gaussian  0.013424  0.015418\n",
      "2                                 kernel (h = 0.003)  0.019444  0.023647\n",
      "3  EVT: (shape, scale, location) = (-0.0204271622...  0.018408  0.023102\n",
      "0   -0.047384\n",
      "1   -0.264993\n",
      "2   -0.112003\n",
      "3   -0.162242\n",
      "Name: VaR, dtype: float64\n",
      "[0.00370883 0.00628919]\n"
     ]
    },
    {
     "name": "stderr",
     "output_type": "stream",
     "text": [
      "C:\\Program Files\\Anaconda3\\lib\\site-packages\\ipykernel_launcher.py:33: RuntimeWarning: divide by zero encountered in log\n",
      "C:\\Program Files\\Anaconda3\\lib\\site-packages\\ipykernel_launcher.py:21: RuntimeWarning: invalid value encountered in double_scalars\n"
     ]
    }
   ],
   "source": [
    "alpha = 0.99\n",
    "\n",
    "loss3 = L[-1]\n",
    "\n",
    "result3 = pd.DataFrame(columns = ['method', 'VaR', 'ES'])\n",
    "result3 = result3.append(pd.DataFrame([['empirical', VaR_quantile(loss3, alpha), ES_quantile(loss3, alpha)]], \n",
    "                                    columns = ['method', 'VaR', 'ES']), ignore_index = True)\n",
    "\n",
    "result3 = result3.append(pd.DataFrame([['Gaussian', VaR_Gaussian(loss3, alpha), ES_Gaussian(loss3, alpha)]], \n",
    "                                    columns = ['method', 'VaR', 'ES']), ignore_index = True)\n",
    "\n",
    "result3 = result3.append(pd.DataFrame([['kernel (h = 0.003)', VaR_kernel(loss3, alpha, 0.003, dx), ES_kernel(loss3, alpha, 0.003, dx)]], \n",
    "                                    columns = ['method', 'VaR', 'ES']), ignore_index = True)\n",
    "\n",
    "evt = EVT(loss3, np.arange(0.0001, 0.0501, 0.005))\n",
    "result3 = result3.append(pd.DataFrame([['EVT: (shape, scale, location) = ' + str(evt.parameters()), evt.VaR(alpha), evt.ES(alpha)]], \n",
    "                                    columns = ['method', 'VaR', 'ES']), ignore_index = True)\n",
    "\n",
    "print(result)\n",
    "print(result3)\n",
    "\n",
    "change2 = result3.VaR/result.VaR - 1\n",
    "VaR_diameter2 = np.array([result.VaR.max() - result.VaR.min(), result3.VaR.max() - result3.VaR.min()])\n",
    "\n",
    "print(change2)\n",
    "print(VaR_diameter2)"
   ]
  },
  {
   "cell_type": "code",
   "execution_count": 206,
   "metadata": {
    "collapsed": true
   },
   "outputs": [],
   "source": [
    "class Daubechies4:\n",
    "    import numpy as np\n",
    "    import matplotlib.pyplot as plt\n",
    "\n",
    "    def direct(self, f , scale):\n",
    "        N = len(f)\n",
    "        max_length = 2**(int(np.log2(len(f))) + 1)\n",
    "        max_scale = int(np.log2(len(f))) + 1\n",
    "\n",
    "        if np.log2(len(f)) - int(np.log2(len(f))) != 0:\n",
    "            f = np.pad(f, (0, max_length - N -1), mode = 'constant')\n",
    "\n",
    "        d = []\n",
    "        for i in range(min(max_scale, scale)):\n",
    "            d1 = f[1::2] - f[:len(f)-1:2]\n",
    "            s1 = f[:len(f)-1:2] + 0.5*d1\n",
    "            f = 2**0.5*s1\n",
    "            di = 2**-0.5*d1\n",
    "            d.append(di)\n",
    "\n",
    "        return f, np.array(d)\n",
    "\n",
    "    def inverse(self, s, d, scale):\n",
    "        max_scale = len(d)\n",
    "        for i in range(min(max_scale,scale)):\n",
    "            d1 = np.array(d[scale - i - 1]) / (3**0.5 + 1) * 2**0.5\n",
    "            s2 = s / (3**0.5 - 1) * 2**0.5\n",
    "            s1 = s2 + np.roll(d1, 1)\n",
    "            f = np.zeros(2*len(s) + 1)\n",
    "            f[1::2] = d1 + 3**0.5*0.25*s1 + (3**0.5 - 2)*0.25*np.roll(s1, -1)\n",
    "            f[:len(s)*2:2] = s1 - 3**0.5*f[1::2]\n",
    "            s = np.array(f)\n",
    "        return s\n",
    "    \n",
    "    def multiresolution(self, f, scale):\n",
    "        N = len(f)\n",
    "        s, d = self.direct(f, scale)\n",
    "        \n",
    "        s_prime = []\n",
    "        for i in range(scale):\n",
    "            d_prime = []\n",
    "            for j in range(scale):\n",
    "                if j == i:\n",
    "                    d_prime.append(d[i])\n",
    "                else:\n",
    "                    d_prime.append([0] * len(d[j]))\n",
    "\n",
    "            s_prime.append(self.inverse(np.zeros(len(s)), np.array(d_prime), scale)[:N])\n",
    "\n",
    "        s_prime.append(self.inverse(s, [[0] * np.array(di) for di in d], scale)[:N])\n",
    "\n",
    "        return s_prime\n",
    "\n",
    "    def plot(self, X):\n",
    "        N = len(X)\n",
    "        fig, axs = plt.subplots(N)\n",
    "        \n",
    "        for i in range(N):\n",
    "            axs[i].plot(np.array(X[i]))\n",
    "\n",
    "        plt.tight_layout()\n",
    "        plt.show()\n",
    "        "
   ]
  },
  {
   "cell_type": "code",
   "execution_count": 207,
   "metadata": {},
   "outputs": [
    {
     "data": {
      "image/png": "[encoded data removed]",
      "text/plain": [
       "<Figure size 432x288 with 2 Axes>"
      ]
     },
     "metadata": {
      "needs_background": "light"
     },
     "output_type": "display_data"
    },
    {
     "data": {
      "text/plain": [
       "[<matplotlib.lines.Line2D at 0x2ab0b6cf4e0>]"
      ]
     },
     "execution_count": 207,
     "metadata": {},
     "output_type": "execute_result"
    },
    {
     "data": {
      "image/png": "[encoded data removed]",
      "text/plain": [
       "<Figure size 432x288 with 1 Axes>"
      ]
     },
     "metadata": {
      "needs_background": "light"
     },
     "output_type": "display_data"
    }
   ],
   "source": [
    "f = loss\n",
    "dwt = Daubechies4()\n",
    "\n",
    "s = dwt.multiresolution(f.values, scale = 1)\n",
    "\n",
    "n = len(f.index)\n",
    "L = [si[:n] for si in s]\n",
    "dwt.plot(L)\n",
    "\n",
    "signal = L[0]\n",
    "for i in range(1, len(L)):\n",
    "    signal += L[i]\n",
    "\n",
    "    \n",
    "plt.plot(f)    \n",
    "plt.plot(f.index, L[-1], color = 'red')"
   ]
  },
  {
   "cell_type": "code",
   "execution_count": 208,
   "metadata": {},
   "outputs": [
    {
     "name": "stdout",
     "output_type": "stream",
     "text": [
      "                                              method       VaR        ES\n",
      "0                                          empirical  0.020694  0.026793\n",
      "1                                           Gaussian  0.018264  0.020963\n",
      "2                                 kernel (h = 0.003)  0.021896  0.027095\n",
      "3  EVT: (shape, scale, location) = (-0.0104083962...  0.021973  0.027494\n",
      "                                              method       VaR        ES\n",
      "0                                          empirical  0.018154  0.024638\n",
      "1                                           Gaussian  0.013424  0.015418\n",
      "2                                 kernel (h = 0.003)  0.019075  0.024495\n",
      "3  EVT: (shape, scale, location) = (-0.0587778561...  0.017163  0.021096\n",
      "0   -0.122761\n",
      "1   -0.264980\n",
      "2   -0.128833\n",
      "3   -0.218908\n",
      "Name: VaR, dtype: float64\n",
      "[0.00370883 0.00565081]\n"
     ]
    }
   ],
   "source": [
    "alpha = 0.99\n",
    "\n",
    "loss4 = L[-1]\n",
    "\n",
    "result4 = pd.DataFrame(columns = ['method', 'VaR', 'ES'])\n",
    "result4 = result4.append(pd.DataFrame([['empirical', VaR_quantile(loss4, alpha), ES_quantile(loss4, alpha)]], \n",
    "                                    columns = ['method', 'VaR', 'ES']), ignore_index = True)\n",
    "\n",
    "result4 = result4.append(pd.DataFrame([['Gaussian', VaR_Gaussian(loss4, alpha), ES_Gaussian(loss4, alpha)]], \n",
    "                                    columns = ['method', 'VaR', 'ES']), ignore_index = True)\n",
    "\n",
    "result4 = result4.append(pd.DataFrame([['kernel (h = 0.003)', VaR_kernel(loss4, alpha, 0.003, dx), ES_kernel(loss4, alpha, 0.003, dx)]], \n",
    "                                    columns = ['method', 'VaR', 'ES']), ignore_index = True)\n",
    "\n",
    "evt = EVT(loss4, np.arange(0.0001, 0.0501, 0.005))\n",
    "result4 = result4.append(pd.DataFrame([['EVT: (shape, scale, location) = ' + str(evt.parameters()), evt.VaR(alpha), evt.ES(alpha)]], \n",
    "                                    columns = ['method', 'VaR', 'ES']), ignore_index = True)\n",
    "\n",
    "print(result)\n",
    "print(result4)\n",
    "\n",
    "change3 = result4.VaR/result.VaR - 1\n",
    "VaR_diameter3 = np.array([result.VaR.max() - result.VaR.min(), result4.VaR.max() - result4.VaR.min()])\n",
    "\n",
    "print(change3)\n",
    "print(VaR_diameter3)"
   ]
  },
  {
   "cell_type": "markdown",
   "metadata": {},
   "source": [
    "# References\n",
    "\n",
    "[1] Holton, G.A., Value-at-Risk: Theory and Practice, 2nd edition (2014) \n",
    "\n",
    "[2] Jensen, A. and la Cour-Harbo, A., Ripples in Mathematics The Discrete Wavelet Transform, Springer (2001)\n",
    "\n",
    "[3] McNeil, A.J., Extreme Value Theory for Risk Managers (1999)\n",
    "\n",
    "[4] Leadbetter, M.R., On Clustering of High Values in Statistically Stationary Series, Siam Institute for Mathematics and Society (1990)\n",
    "\n",
    "[5] Saap, T.A.R., Efficient Estimation of Distributional Tail Shape and the Extremal Index with Applications to Risk Management, Journal of Mathematical Finance (2016)\n",
    "\n",
    "[6] Shevchenko, G., Fractional Brownian Motion in a Nutshell, Lecture Notes (2014)\n",
    "\n",
    "[7] Pickands, J., Statistical Inference Using Extreme Order Statistics, Institute of Mathematical Statistics (1975)"
   ]
  }
 ],
 "metadata": {
  "kernelspec": {
   "display_name": "Python 3",
   "language": "python",
   "name": "python3"
  },
  "language_info": {
   "codemirror_mode": {
    "name": "ipython",
    "version": 3
   },
   "file_extension": ".py",
   "mimetype": "text/x-python",
   "name": "python",
   "nbconvert_exporter": "python",
   "pygments_lexer": "ipython3",
   "version": "3.6.8"
  }
 },
 "nbformat": 4,
 "nbformat_minor": 2
}
